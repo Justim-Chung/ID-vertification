{
 "cells": [
  {
   "cell_type": "code",
   "execution_count": 1,
   "metadata": {},
   "outputs": [],
   "source": [
    "weights = [1,9,8,7,6,5,4,3,2,1,1]\n",
    "region_table = {\n",
    "    # key:value\n",
    "    'A':10, 'B':11, 'C':12, 'D':13, 'E':14,\n",
    "    'F':15, 'G':16, 'H':17, 'I':34, 'J':18,\n",
    "    'K':19, 'M':21, 'N':22, 'O':35, 'P':23,\n",
    "    'Q':24, 'T':27, 'U':28, 'V':29, 'W':32,\n",
    "    'X':30, 'Z':33\n",
    "}\n",
    "gender = 1\n",
    "region_name = '台北市'"
   ]
  },
  {
   "cell_type": "code",
   "execution_count": 2,
   "metadata": {},
   "outputs": [],
   "source": [
    "region_name_table ={\n",
    "    '台北市':'A', '台中市':'B', '基隆市':'C', '台南市':'D',\n",
    "    '高雄市':'E', '新北市':'F', '宜蘭縣':'G', '桃園市':'H',\n",
    "    '嘉義市':'I', '新竹縣':'J', '苗栗縣':'K', '南投縣':'M',\n",
    "    '彰化縣':'N', '新竹市':'O', '雲林縣':'P', '嘉義縣':'Q',\n",
    "    '屏東縣':'T', '花蓮縣':'U', '台東縣':'V', '金門縣':'W',\n",
    "    '澎湖縣':'X', '連江縣':'Z',\n",
    "} "
   ]
  },
  {
   "cell_type": "code",
   "execution_count": 4,
   "metadata": {},
   "outputs": [
    {
     "name": "stdout",
     "output_type": "stream",
     "text": [
      "A\n"
     ]
    }
   ],
   "source": [
    "print(region_name_table[region_name])"
   ]
  },
  {
   "cell_type": "code",
   "execution_count": 5,
   "metadata": {},
   "outputs": [
    {
     "name": "stdout",
     "output_type": "stream",
     "text": [
      "[1, 0, 1, 0, 0, 0, 0, 0, 0, 0, 0]\n"
     ]
    }
   ],
   "source": [
    "id_buf = [0]*11\n",
    "rcode = region_name_table[region_name]\n",
    "# rcode == 'A'\n",
    "id_buf[0] = region_table[rcode] // 10\n",
    "id_buf[1] = region_table[rcode] % 10\n",
    "# gender value\n",
    "id_buf[2] = gender\n",
    "print(id_buf)"
   ]
  },
  {
   "cell_type": "code",
   "execution_count": 34,
   "metadata": {},
   "outputs": [
    {
     "name": "stdout",
     "output_type": "stream",
     "text": [
      "[1, 0, 1, 6, 4, 2, 5, 6, 6, 2, 0]\n"
     ]
    }
   ],
   "source": [
    "import random\n",
    "for i in range(3, 10):  \n",
    "    id_buf[i] = random.randint(0,9)\n",
    "print(id_buf)"
   ]
  },
  {
   "cell_type": "code",
   "execution_count": 35,
   "metadata": {},
   "outputs": [
    {
     "name": "stdout",
     "output_type": "stream",
     "text": [
      "[1, 0, 1, 6, 4, 2, 5, 6, 6, 2, 0]\n",
      "[1, 9, 8, 7, 6, 5, 4, 3, 2, 1, 1]\n",
      "137\n"
     ]
    }
   ],
   "source": [
    "id_sum = 0\n",
    "print(id_buf)\n",
    "print(weights)\n",
    "for i in range(len(id_buf)):\n",
    "    id_sum = id_sum + id_buf[i] * weights[i]\n",
    "print(id_sum)"
   ]
  },
  {
   "cell_type": "code",
   "execution_count": 36,
   "metadata": {},
   "outputs": [
    {
     "name": "stdout",
     "output_type": "stream",
     "text": [
      "7\n"
     ]
    }
   ],
   "source": [
    "print(id_sum % 10)"
   ]
  },
  {
   "cell_type": "code",
   "execution_count": 38,
   "metadata": {},
   "outputs": [
    {
     "name": "stdout",
     "output_type": "stream",
     "text": [
      "[1, 0, 1, 6, 4, 2, 5, 6, 6, 2, 3]\n"
     ]
    }
   ],
   "source": [
    "if id_sum % 10 == 0:\n",
    "    id_buf[10] = 0\n",
    "else:\n",
    "    id_buf[10] = 10 - (id_sum % 10)\n",
    "print(id_buf)"
   ]
  },
  {
   "cell_type": "code",
   "execution_count": 44,
   "metadata": {},
   "outputs": [
    {
     "name": "stdout",
     "output_type": "stream",
     "text": [
      "A164256623"
     ]
    }
   ],
   "source": [
    "print(rcode, end='')\n",
    "print(gender, end='')\n",
    "for i in range(3, 11):\n",
    "    print(id_buf[i], end='')"
   ]
  }
 ],
 "metadata": {
  "kernelspec": {
   "display_name": "base",
   "language": "python",
   "name": "python3"
  },
  "language_info": {
   "codemirror_mode": {
    "name": "ipython",
    "version": 3
   },
   "file_extension": ".py",
   "mimetype": "text/x-python",
   "name": "python",
   "nbconvert_exporter": "python",
   "pygments_lexer": "ipython3",
   "version": "3.8.5"
  },
  "orig_nbformat": 4
 },
 "nbformat": 4,
 "nbformat_minor": 2
}
