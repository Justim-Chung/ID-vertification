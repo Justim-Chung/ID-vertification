{
 "cells": [
  {
   "cell_type": "code",
   "execution_count": 66,
   "metadata": {},
   "outputs": [],
   "source": [
    "# rname == 台北市\n",
    "# rcode == A\n",
    "# rvalue = 10\n",
    "weights = [1,9,8,7,6,5,4,3,2,1,1]\n",
    "region_table = {\n",
    "    # key:value\n",
    "    'A':10, 'B':11, 'C':12, 'D':13, 'E':14,\n",
    "    'F':15, 'G':16, 'H':17, 'I':34, 'J':18,\n",
    "    'K':19, 'M':21, 'N':22, 'O':35, 'P':23,\n",
    "    'Q':24, 'T':27, 'U':28, 'V':29, 'W':32,\n",
    "    'X':30, 'Z':33\n",
    "}\n",
    "gender = 1\n",
    "region_name = '台北市'"
   ]
  },
  {
   "cell_type": "code",
   "execution_count": 67,
   "metadata": {},
   "outputs": [],
   "source": [
    "region_name_table ={\n",
    "    '台北市':'A', '台中市':'B', '基隆市':'C', '台南市':'D',\n",
    "    '高雄市':'E', '新北市':'F', '宜蘭縣':'G', '桃園市':'H',\n",
    "    '嘉義市':'I', '新竹縣':'J', '苗栗縣':'K', '南投縣':'M',\n",
    "    '彰化縣':'N', '新竹市':'O', '雲林縣':'P', '嘉義縣':'Q',\n",
    "    '屏東縣':'T', '花蓮縣':'U', '台東縣':'V', '金門縣':'W',\n",
    "    '澎湖縣':'X', '連江縣':'Z',\n",
    "} "
   ]
  },
  {
   "cell_type": "code",
   "execution_count": 77,
   "metadata": {},
   "outputs": [],
   "source": [
    "def get_first_region_value(rcode):\n",
    "    v = rcode // 10\n",
    "    return v\n",
    "\n",
    "def get_second_region_value(rcode):\n",
    "    v = rcode % 10\n",
    "    return v\n",
    "\n",
    "def get_region_code_by_name(region_name):\n",
    "    \"\"\"\n",
    "    Given a region name, return its region code.\n",
    "    Ex. region_name = '台北市', return 'A'\n",
    "    param:\n",
    "        region_name: str, the name of a region. Ex. '台北市'\n",
    "    return:\n",
    "        region_code: str, the region code of the \n",
    "        given region name. Ex. 'A'\n",
    "    \"\"\"\n",
    "    return region_name_table[region_name]\n",
    "\n",
    "def get_region_value_by_name(region_name):\n",
    "    \"\"\"\n",
    "    Given a region name, return its region value.\n",
    "    Ex. region_name = '台北市', return 10\n",
    "    param:\n",
    "        region_name: str, the name of a region. Ex. '台北市'\n",
    "    return: \n",
    "        region_value: int, the region value of the given name.\n",
    "        Ex. 10\n",
    "    \"\"\"\n",
    "    rcode = get_region_code_by_name(region_name)\n",
    "    return region_table[rcode]\n",
    "\n",
    "def get_id_weighted_sum(id_buf):\n",
    "    id_sum = 0\n",
    "    for i in range(len(id_buf)):\n",
    "        id_sum = id_sum + id_buf[i] * weights[i]\n",
    "    return id_sum\n",
    "\n",
    "def get_id(id_buf, region_name):\n",
    "    id = ''\n",
    "    id = id + get_region_code_by_name(region_name) \n",
    "    for i in range(2, 11):\n",
    "        id = id + str(id_buf[i])\n",
    "    return id"
   ]
  },
  {
   "cell_type": "code",
   "execution_count": 69,
   "metadata": {},
   "outputs": [
    {
     "name": "stdout",
     "output_type": "stream",
     "text": [
      "F\n",
      "1 5\n"
     ]
    }
   ],
   "source": [
    "rcode = get_region_code_by_name('新北市')\n",
    "rvalue = get_region_value_by_name('新北市')\n",
    "r1 = get_first_region_value(rvalue)\n",
    "r2 = get_second_region_value(rvalue)\n",
    "print(rcode)\n",
    "print(r1, r2)"
   ]
  },
  {
   "cell_type": "code",
   "execution_count": 70,
   "metadata": {},
   "outputs": [
    {
     "name": "stdout",
     "output_type": "stream",
     "text": [
      "[1, 0, 1, 0, 0, 0, 0, 0, 0, 0, 0]\n"
     ]
    }
   ],
   "source": [
    "id_buf = [0]*11\n",
    "rvalue = get_region_value_by_name(region_name)\n",
    "id_buf[0] = get_first_region_value(rvalue)\n",
    "id_buf[1] = get_second_region_value(rvalue)\n",
    "# gender value\n",
    "id_buf[2] = gender\n",
    "print(id_buf)"
   ]
  },
  {
   "cell_type": "code",
   "execution_count": 71,
   "metadata": {},
   "outputs": [
    {
     "name": "stdout",
     "output_type": "stream",
     "text": [
      "[1, 0, 1, 9, 4, 4, 1, 2, 2, 3, 0]\n"
     ]
    }
   ],
   "source": [
    "import random\n",
    "for i in range(3, 10):  \n",
    "    id_buf[i] = random.randint(0,9)\n",
    "print(id_buf)"
   ]
  },
  {
   "cell_type": "code",
   "execution_count": 72,
   "metadata": {},
   "outputs": [
    {
     "name": "stdout",
     "output_type": "stream",
     "text": [
      "[1, 0, 1, 9, 4, 4, 1, 2, 2, 3, 0]\n",
      "[1, 9, 8, 7, 6, 5, 4, 3, 2, 1, 1]\n",
      "133\n"
     ]
    }
   ],
   "source": [
    "id_sum = 0\n",
    "print(id_buf)\n",
    "print(weights)\n",
    "id_sum = get_id_weighted_sum(id_buf)\n",
    "print(id_sum)"
   ]
  },
  {
   "cell_type": "code",
   "execution_count": 73,
   "metadata": {},
   "outputs": [
    {
     "name": "stdout",
     "output_type": "stream",
     "text": [
      "[1, 0, 1, 9, 4, 4, 1, 2, 2, 3, 7]\n"
     ]
    }
   ],
   "source": [
    "if id_sum % 10 == 0:\n",
    "    id_buf[10] = 0\n",
    "else:\n",
    "    id_buf[10] = 10 - (id_sum % 10)\n",
    "print(id_buf)"
   ]
  },
  {
   "cell_type": "code",
   "execution_count": 78,
   "metadata": {},
   "outputs": [
    {
     "name": "stdout",
     "output_type": "stream",
     "text": [
      "A194412237\n"
     ]
    }
   ],
   "source": [
    "fake_id = get_id(id_buf, region_name)\n",
    "print(fake_id)"
   ]
  },
  {
   "cell_type": "code",
   "execution_count": 80,
   "metadata": {},
   "outputs": [],
   "source": [
    "def generate_fake_id(region_name, gender):\n",
    "    id_buf = [0]*11\n",
    "    rvalue = get_region_value_by_name(region_name)\n",
    "    id_buf[0] = get_first_region_value(rvalue)\n",
    "    id_buf[1] = get_second_region_value(rvalue)\n",
    "    # gender value\n",
    "    id_buf[2] = gender\n",
    "    for i in range(3, 10):  \n",
    "        id_buf[i] = random.randint(0,9)\n",
    "    id_sum = get_id_weighted_sum(id_buf)\n",
    "    # generate the last digit\n",
    "    if id_sum % 10 == 0:\n",
    "        id_buf[10] = 0\n",
    "    else:\n",
    "        id_buf[10] = 10 - (id_sum % 10)\n",
    "    fake_id = get_id(id_buf, region_name)\n",
    "    return fake_id    "
   ]
  },
  {
   "cell_type": "code",
   "execution_count": 81,
   "metadata": {},
   "outputs": [
    {
     "data": {
      "text/plain": [
       "'E229572322'"
      ]
     },
     "execution_count": 81,
     "metadata": {},
     "output_type": "execute_result"
    }
   ],
   "source": [
    "generate_fake_id('高雄市', 2)"
   ]
  }
 ],
 "metadata": {
  "kernelspec": {
   "display_name": "base",
   "language": "python",
   "name": "python3"
  },
  "language_info": {
   "codemirror_mode": {
    "name": "ipython",
    "version": 3
   },
   "file_extension": ".py",
   "mimetype": "text/x-python",
   "name": "python",
   "nbconvert_exporter": "python",
   "pygments_lexer": "ipython3",
   "version": "3.8.5"
  },
  "orig_nbformat": 4
 },
 "nbformat": 4,
 "nbformat_minor": 2
}
